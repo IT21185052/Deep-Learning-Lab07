{
  "cells": [
    {
      "cell_type": "code",
      "execution_count": 1,
      "id": "f4340427",
      "metadata": {
        "id": "f4340427"
      },
      "outputs": [],
      "source": [
        "import matplotlib.pyplot as plt\n",
        "import numpy as np\n",
        "import pandas as pd\n",
        "import tensorflow as tf\n",
        "\n",
        "from sklearn.metrics import accuracy_score, precision_score, recall_score\n",
        "from sklearn.model_selection import train_test_split\n",
        "from tensorflow.keras import layers, losses\n",
        "from tensorflow.keras.datasets import fashion_mnist\n",
        "from tensorflow.keras.models import Model"
      ]
    },
    {
      "cell_type": "code",
      "execution_count": 2,
      "id": "a661149f",
      "metadata": {
        "colab": {
          "base_uri": "https://localhost:8080/"
        },
        "id": "a661149f",
        "outputId": "8621ef73-088b-4a51-ce18-42d4d7f4791b"
      },
      "outputs": [
        {
          "output_type": "stream",
          "name": "stdout",
          "text": [
            "Downloading data from https://storage.googleapis.com/tensorflow/tf-keras-datasets/train-labels-idx1-ubyte.gz\n",
            "\u001b[1m29515/29515\u001b[0m \u001b[32m━━━━━━━━━━━━━━━━━━━━\u001b[0m\u001b[37m\u001b[0m \u001b[1m0s\u001b[0m 0us/step\n",
            "Downloading data from https://storage.googleapis.com/tensorflow/tf-keras-datasets/train-images-idx3-ubyte.gz\n",
            "\u001b[1m26421880/26421880\u001b[0m \u001b[32m━━━━━━━━━━━━━━━━━━━━\u001b[0m\u001b[37m\u001b[0m \u001b[1m1s\u001b[0m 0us/step\n",
            "Downloading data from https://storage.googleapis.com/tensorflow/tf-keras-datasets/t10k-labels-idx1-ubyte.gz\n",
            "\u001b[1m5148/5148\u001b[0m \u001b[32m━━━━━━━━━━━━━━━━━━━━\u001b[0m\u001b[37m\u001b[0m \u001b[1m0s\u001b[0m 1us/step\n",
            "Downloading data from https://storage.googleapis.com/tensorflow/tf-keras-datasets/t10k-images-idx3-ubyte.gz\n",
            "\u001b[1m4422102/4422102\u001b[0m \u001b[32m━━━━━━━━━━━━━━━━━━━━\u001b[0m\u001b[37m\u001b[0m \u001b[1m0s\u001b[0m 0us/step\n"
          ]
        }
      ],
      "source": [
        "(x_train, _), (x_test, _) = fashion_mnist.load_data()\n"
      ]
    },
    {
      "cell_type": "code",
      "execution_count": 4,
      "id": "23fc6f78",
      "metadata": {
        "id": "23fc6f78"
      },
      "outputs": [],
      "source": [
        "x_train = x_train.astype('float32') / 255.\n",
        "x_test = x_test.astype('float32') / 255.\n",
        "\n"
      ]
    },
    {
      "cell_type": "code",
      "execution_count": 5,
      "id": "1bdf4e3c",
      "metadata": {
        "colab": {
          "base_uri": "https://localhost:8080/"
        },
        "id": "1bdf4e3c",
        "outputId": "ccb359cc-c28a-4f22-f62c-0b2bd3d609df"
      },
      "outputs": [
        {
          "output_type": "stream",
          "name": "stdout",
          "text": [
            "(60000, 28, 28, 1)\n",
            "(10000, 28, 28, 1)\n"
          ]
        }
      ],
      "source": [
        "x_train = x_train[..., tf.newaxis] #adds a additional axis (60000,28,28) --> (60000,28,28,1)\n",
        "x_test = x_test[..., tf.newaxis]\n",
        "print(x_train.shape)\n",
        "print(x_test.shape)"
      ]
    },
    {
      "cell_type": "code",
      "execution_count": 6,
      "id": "37a6b423",
      "metadata": {
        "collapsed": true,
        "colab": {
          "base_uri": "https://localhost:8080/"
        },
        "id": "37a6b423",
        "outputId": "06d595d0-7877-4b75-9b6e-11afd95fb356"
      },
      "outputs": [
        {
          "output_type": "execute_result",
          "data": {
            "text/plain": [
              "<tf.Tensor: shape=(60000, 28, 28, 1), dtype=float32, numpy=\n",
              "array([[[[ 2.1186025e+00],\n",
              "         [-5.9366614e-01],\n",
              "         [-9.3685144e-01],\n",
              "         ...,\n",
              "         [-4.2827728e-01],\n",
              "         [ 5.4645956e-01],\n",
              "         [-2.2470555e-01]],\n",
              "\n",
              "        [[-1.1589035e+00],\n",
              "         [ 1.1159000e+00],\n",
              "         [ 1.8823260e-01],\n",
              "         ...,\n",
              "         [ 1.1684203e-01],\n",
              "         [-4.9270386e-01],\n",
              "         [-8.5334349e-01]],\n",
              "\n",
              "        [[ 3.7048125e-01],\n",
              "         [-1.6822819e+00],\n",
              "         [-1.7251763e+00],\n",
              "         ...,\n",
              "         [ 1.3636123e+00],\n",
              "         [ 1.0203677e+00],\n",
              "         [ 5.9408516e-01]],\n",
              "\n",
              "        ...,\n",
              "\n",
              "        [[ 1.8992959e+00],\n",
              "         [-6.6123825e-01],\n",
              "         [-9.0826786e-01],\n",
              "         ...,\n",
              "         [ 8.7631249e-01],\n",
              "         [ 4.1471517e-01],\n",
              "         [-5.8348131e-01]],\n",
              "\n",
              "        [[-2.9716441e-01],\n",
              "         [ 3.7195146e-01],\n",
              "         [-9.5895790e-02],\n",
              "         ...,\n",
              "         [ 5.2527702e-01],\n",
              "         [ 2.6959485e-01],\n",
              "         [-1.0423181e+00]],\n",
              "\n",
              "        [[ 5.6528229e-01],\n",
              "         [-2.6129574e-01],\n",
              "         [ 6.8825647e-02],\n",
              "         ...,\n",
              "         [ 1.2951674e-01],\n",
              "         [-1.0026665e+00],\n",
              "         [ 2.2923905e-01]]],\n",
              "\n",
              "\n",
              "       [[[ 9.7528309e-01],\n",
              "         [-1.2329670e+00],\n",
              "         [ 7.8304851e-01],\n",
              "         ...,\n",
              "         [ 2.6530510e-01],\n",
              "         [-5.1942414e-01],\n",
              "         [ 5.4554367e-01]],\n",
              "\n",
              "        [[ 2.0870861e-01],\n",
              "         [-1.0544696e+00],\n",
              "         [-5.3538918e-01],\n",
              "         ...,\n",
              "         [ 5.7454360e-01],\n",
              "         [ 5.3061956e-01],\n",
              "         [ 5.9967130e-01]],\n",
              "\n",
              "        [[ 8.9881539e-01],\n",
              "         [ 1.5344926e+00],\n",
              "         [-6.6958231e-01],\n",
              "         ...,\n",
              "         [-3.6965278e-01],\n",
              "         [ 5.3903985e-01],\n",
              "         [-3.1806524e+00]],\n",
              "\n",
              "        ...,\n",
              "\n",
              "        [[ 2.7662462e-01],\n",
              "         [ 9.6788871e-01],\n",
              "         [-1.8915839e+00],\n",
              "         ...,\n",
              "         [-9.8628163e-01],\n",
              "         [ 1.2846939e-01],\n",
              "         [-4.7658503e-01]],\n",
              "\n",
              "        [[ 1.3224816e-01],\n",
              "         [-8.2920915e-01],\n",
              "         [-9.5160782e-01],\n",
              "         ...,\n",
              "         [ 3.5445991e-01],\n",
              "         [ 4.5780721e-01],\n",
              "         [-1.2657168e+00]],\n",
              "\n",
              "        [[ 5.5902499e-01],\n",
              "         [-6.3069671e-01],\n",
              "         [ 5.2889701e-02],\n",
              "         ...,\n",
              "         [ 7.3355806e-01],\n",
              "         [-5.0771320e-01],\n",
              "         [-5.5362511e-01]]],\n",
              "\n",
              "\n",
              "       [[[ 1.5531991e-01],\n",
              "         [ 1.4550701e+00],\n",
              "         [ 7.0400095e-01],\n",
              "         ...,\n",
              "         [-5.1097935e-01],\n",
              "         [ 6.4639533e-01],\n",
              "         [-2.2224109e+00]],\n",
              "\n",
              "        [[ 1.4600896e+00],\n",
              "         [-3.9822391e-01],\n",
              "         [ 9.6691018e-01],\n",
              "         ...,\n",
              "         [ 1.6844087e+00],\n",
              "         [-2.7278492e+00],\n",
              "         [-1.1830556e+00]],\n",
              "\n",
              "        [[ 9.8394239e-01],\n",
              "         [-1.1975777e+00],\n",
              "         [-4.2626145e-01],\n",
              "         ...,\n",
              "         [-3.8972118e-01],\n",
              "         [ 9.1129088e-01],\n",
              "         [-9.1696972e-01]],\n",
              "\n",
              "        ...,\n",
              "\n",
              "        [[-8.4008187e-02],\n",
              "         [-2.7395821e+00],\n",
              "         [ 1.1889368e+00],\n",
              "         ...,\n",
              "         [ 4.7575122e-01],\n",
              "         [ 1.0951108e+00],\n",
              "         [ 1.1398950e-01]],\n",
              "\n",
              "        [[ 1.7668595e+00],\n",
              "         [-1.0318246e+00],\n",
              "         [-3.5866389e-01],\n",
              "         ...,\n",
              "         [ 9.4722700e-01],\n",
              "         [-5.9494859e-01],\n",
              "         [-1.6826296e+00]],\n",
              "\n",
              "        [[ 2.7911341e-01],\n",
              "         [-2.3077460e-01],\n",
              "         [ 5.3941816e-01],\n",
              "         ...,\n",
              "         [-2.7622196e-01],\n",
              "         [ 2.0056186e+00],\n",
              "         [ 1.0800290e+00]]],\n",
              "\n",
              "\n",
              "       ...,\n",
              "\n",
              "\n",
              "       [[[-1.4701064e+00],\n",
              "         [-1.1111013e+00],\n",
              "         [ 2.7779100e-02],\n",
              "         ...,\n",
              "         [ 5.4576570e-01],\n",
              "         [-1.9641672e+00],\n",
              "         [ 6.1978084e-01]],\n",
              "\n",
              "        [[-2.6166558e-01],\n",
              "         [-4.1509770e-02],\n",
              "         [ 6.2665451e-01],\n",
              "         ...,\n",
              "         [-1.1916876e-01],\n",
              "         [-2.3371434e-01],\n",
              "         [ 9.3145859e-01]],\n",
              "\n",
              "        [[-4.4545282e-02],\n",
              "         [-4.4329771e-01],\n",
              "         [ 9.8582089e-01],\n",
              "         ...,\n",
              "         [ 7.8717574e-02],\n",
              "         [-1.6149629e+00],\n",
              "         [-7.8501493e-02]],\n",
              "\n",
              "        ...,\n",
              "\n",
              "        [[ 2.5228448e+00],\n",
              "         [-4.3874604e-01],\n",
              "         [ 5.5870932e-02],\n",
              "         ...,\n",
              "         [-2.4706712e-01],\n",
              "         [-1.2184587e+00],\n",
              "         [ 3.2847288e-01]],\n",
              "\n",
              "        [[ 6.4362442e-01],\n",
              "         [ 5.9317100e-01],\n",
              "         [-1.2068251e+00],\n",
              "         ...,\n",
              "         [ 1.4740685e+00],\n",
              "         [-1.9865348e+00],\n",
              "         [ 8.1601220e-01]],\n",
              "\n",
              "        [[-8.1118798e-01],\n",
              "         [-1.2788266e+00],\n",
              "         [ 6.3549608e-02],\n",
              "         ...,\n",
              "         [-6.7126542e-01],\n",
              "         [ 8.5867608e-01],\n",
              "         [ 8.3360475e-01]]],\n",
              "\n",
              "\n",
              "       [[[-1.2989763e+00],\n",
              "         [-1.4553814e+00],\n",
              "         [-2.0795038e+00],\n",
              "         ...,\n",
              "         [ 2.1279857e+00],\n",
              "         [-4.0430003e-01],\n",
              "         [ 7.5159442e-01]],\n",
              "\n",
              "        [[ 1.2477405e+00],\n",
              "         [ 6.8067175e-01],\n",
              "         [-7.0074791e-01],\n",
              "         ...,\n",
              "         [ 6.8442929e-01],\n",
              "         [-1.4736705e-01],\n",
              "         [-9.5013887e-01]],\n",
              "\n",
              "        [[ 7.5448370e-01],\n",
              "         [-9.5273912e-01],\n",
              "         [ 5.0122821e-01],\n",
              "         ...,\n",
              "         [-1.1067282e-01],\n",
              "         [ 8.9559340e-01],\n",
              "         [ 8.1365359e-01]],\n",
              "\n",
              "        ...,\n",
              "\n",
              "        [[-4.5299134e-01],\n",
              "         [-6.4719355e-01],\n",
              "         [-6.6932482e-01],\n",
              "         ...,\n",
              "         [-1.0996512e+00],\n",
              "         [ 1.3115435e+00],\n",
              "         [ 1.2422478e+00]],\n",
              "\n",
              "        [[ 7.0480853e-01],\n",
              "         [ 2.2113612e+00],\n",
              "         [-9.4289684e-01],\n",
              "         ...,\n",
              "         [-1.9422640e+00],\n",
              "         [ 1.8394048e+00],\n",
              "         [-5.3389561e-01]],\n",
              "\n",
              "        [[ 1.2976248e+00],\n",
              "         [-4.0168732e-01],\n",
              "         [-3.4546977e-01],\n",
              "         ...,\n",
              "         [-7.2548114e-02],\n",
              "         [-1.8359315e+00],\n",
              "         [ 1.1470121e+00]]],\n",
              "\n",
              "\n",
              "       [[[-1.3227571e+00],\n",
              "         [ 8.6102778e-01],\n",
              "         [ 3.2120758e-01],\n",
              "         ...,\n",
              "         [ 1.4194669e+00],\n",
              "         [ 1.0762695e+00],\n",
              "         [ 2.3660362e-01]],\n",
              "\n",
              "        [[-1.0496830e+00],\n",
              "         [-1.2035587e+00],\n",
              "         [-1.1826863e-01],\n",
              "         ...,\n",
              "         [-6.5062815e-01],\n",
              "         [-4.9217361e-01],\n",
              "         [-7.8325194e-01]],\n",
              "\n",
              "        [[ 1.8132688e-01],\n",
              "         [ 1.5804492e-01],\n",
              "         [-2.5278272e-03],\n",
              "         ...,\n",
              "         [ 3.1169826e-01],\n",
              "         [ 2.2890415e+00],\n",
              "         [-2.1488819e-02]],\n",
              "\n",
              "        ...,\n",
              "\n",
              "        [[ 1.8664800e-01],\n",
              "         [-1.2326266e+00],\n",
              "         [ 1.0552211e+00],\n",
              "         ...,\n",
              "         [ 1.1582562e+00],\n",
              "         [ 2.0654228e+00],\n",
              "         [-1.5798983e-01]],\n",
              "\n",
              "        [[ 5.9670222e-01],\n",
              "         [ 1.7973676e-02],\n",
              "         [ 3.8053846e-01],\n",
              "         ...,\n",
              "         [ 2.3856585e+00],\n",
              "         [-2.4920993e+00],\n",
              "         [ 1.4598577e+00]],\n",
              "\n",
              "        [[ 1.8275517e-01],\n",
              "         [ 9.9423438e-01],\n",
              "         [-7.7415341e-01],\n",
              "         ...,\n",
              "         [ 1.2582335e-01],\n",
              "         [ 7.3693705e-01],\n",
              "         [-5.9675068e-01]]]], dtype=float32)>"
            ]
          },
          "metadata": {},
          "execution_count": 6
        }
      ],
      "source": [
        "tf.random.normal(shape=x_train.shape)"
      ]
    },
    {
      "cell_type": "code",
      "execution_count": 7,
      "id": "c72771a1",
      "metadata": {
        "id": "c72771a1"
      },
      "outputs": [],
      "source": [
        "noise_factor = 0.2\n",
        "x_train_noisy = x_train  +  noise_factor * tf.random.normal(shape=x_train.shape)\n",
        "# noise factor multiplication result in increased spread in noise distribution\n",
        "# result in 0.2^2 increase of variance, mean doesn't chnage (mean = 0)\n",
        "x_test_noisy = x_test  +  noise_factor * tf.random.normal(shape=x_test.shape)\n",
        "\n",
        "x_train_noisy = tf.clip_by_value(x_train_noisy, clip_value_min=0., clip_value_max=1.)\n",
        "x_test_noisy = tf.clip_by_value(x_test_noisy, clip_value_min=0., clip_value_max=1.)"
      ]
    },
    {
      "cell_type": "code",
      "execution_count": 8,
      "id": "ec07ada1",
      "metadata": {
        "colab": {
          "base_uri": "https://localhost:8080/"
        },
        "id": "ec07ada1",
        "outputId": "89d91b19-81fd-4188-bb43-2a486f86ea69"
      },
      "outputs": [
        {
          "output_type": "execute_result",
          "data": {
            "text/plain": [
              "TensorShape([10000, 28, 28, 1])"
            ]
          },
          "metadata": {},
          "execution_count": 8
        }
      ],
      "source": [
        "x_test_noisy.shape"
      ]
    },
    {
      "cell_type": "code",
      "execution_count": 9,
      "id": "161649e1",
      "metadata": {
        "colab": {
          "base_uri": "https://localhost:8080/",
          "height": 191
        },
        "id": "161649e1",
        "outputId": "ad3e8942-cecd-4d05-90ce-e64561b70cbf"
      },
      "outputs": [
        {
          "output_type": "display_data",
          "data": {
            "text/plain": [
              "<Figure size 2000x200 with 10 Axes>"
            ],
            "image/png": "[encoded data removed]"
          },
          "metadata": {}
        }
      ],
      "source": [
        "n = 10\n",
        "plt.figure(figsize=(20, 2))\n",
        "for i in range(n):\n",
        "    ax = plt.subplot(1, n, i + 1)\n",
        "    plt.title(\"original + noise\")\n",
        "    plt.imshow(tf.squeeze(x_test_noisy[i]))\n",
        "    plt.gray()\n",
        "plt.show()"
      ]
    },
    {
      "cell_type": "code",
      "execution_count": 10,
      "id": "6c314ba6",
      "metadata": {
        "id": "6c314ba6"
      },
      "outputs": [],
      "source": [
        "class Denoise(Model):\n",
        "    def __init__(self):\n",
        "        super(Denoise, self).__init__()\n",
        "        self.encoder = tf.keras.Sequential([\n",
        "          layers.Input(shape=(28, 28, 1)),\n",
        "          layers.Conv2D(16, (3, 3), activation='relu', padding='same', strides=2),\n",
        "          layers.Conv2D(8, (3, 3), activation='relu', padding='same', strides=2)])\n",
        "\n",
        "        self.decoder = tf.keras.Sequential([\n",
        "          layers.Conv2DTranspose(8, kernel_size=3, strides=2, activation='relu', padding='same'),\n",
        "          layers.Conv2DTranspose(16, kernel_size=3, strides=2, activation='relu', padding='same'),\n",
        "          layers.Conv2D(1, kernel_size=(3, 3), activation='sigmoid', padding='same')])\n",
        "\n",
        "    def call(self, x):\n",
        "        encoded = self.encoder(x)\n",
        "        decoded = self.decoder(encoded)\n",
        "        return decoded\n"
      ]
    },
    {
      "cell_type": "code",
      "execution_count": 11,
      "id": "96d17937",
      "metadata": {
        "id": "96d17937"
      },
      "outputs": [],
      "source": [
        "autoencoder = Denoise()"
      ]
    },
    {
      "cell_type": "code",
      "execution_count": 12,
      "id": "91cb12a5",
      "metadata": {
        "id": "91cb12a5"
      },
      "outputs": [],
      "source": [
        "autoencoder.compile(optimizer='adam', loss=losses.MeanSquaredError())"
      ]
    },
    {
      "cell_type": "code",
      "execution_count": 13,
      "id": "6dd35cd4",
      "metadata": {
        "colab": {
          "base_uri": "https://localhost:8080/"
        },
        "id": "6dd35cd4",
        "outputId": "b29510d9-6741-4c44-a46b-bf830687d136"
      },
      "outputs": [
        {
          "output_type": "stream",
          "name": "stdout",
          "text": [
            "Epoch 1/30\n",
            "\u001b[1m1875/1875\u001b[0m \u001b[32m━━━━━━━━━━━━━━━━━━━━\u001b[0m\u001b[37m\u001b[0m \u001b[1m73s\u001b[0m 37ms/step - loss: 0.0193 - val_loss: 3.3285e-06\n",
            "Epoch 2/30\n",
            "\u001b[1m1875/1875\u001b[0m \u001b[32m━━━━━━━━━━━━━━━━━━━━\u001b[0m\u001b[37m\u001b[0m \u001b[1m77s\u001b[0m 34ms/step - loss: 3.2536e-06 - val_loss: 3.2004e-06\n",
            "Epoch 3/30\n",
            "\u001b[1m1875/1875\u001b[0m \u001b[32m━━━━━━━━━━━━━━━━━━━━\u001b[0m\u001b[37m\u001b[0m \u001b[1m63s\u001b[0m 34ms/step - loss: 3.1920e-06 - val_loss: 3.1826e-06\n",
            "Epoch 4/30\n",
            "\u001b[1m1875/1875\u001b[0m \u001b[32m━━━━━━━━━━━━━━━━━━━━\u001b[0m\u001b[37m\u001b[0m \u001b[1m76s\u001b[0m 30ms/step - loss: 3.1718e-06 - val_loss: 3.1781e-06\n",
            "Epoch 5/30\n",
            "\u001b[1m1875/1875\u001b[0m \u001b[32m━━━━━━━━━━━━━━━━━━━━\u001b[0m\u001b[37m\u001b[0m \u001b[1m77s\u001b[0m 41ms/step - loss: 3.1671e-06 - val_loss: 3.1766e-06\n",
            "Epoch 6/30\n",
            "\u001b[1m1875/1875\u001b[0m \u001b[32m━━━━━━━━━━━━━━━━━━━━\u001b[0m\u001b[37m\u001b[0m \u001b[1m73s\u001b[0m 39ms/step - loss: 3.1886e-06 - val_loss: 3.1761e-06\n",
            "Epoch 7/30\n",
            "\u001b[1m1875/1875\u001b[0m \u001b[32m━━━━━━━━━━━━━━━━━━━━\u001b[0m\u001b[37m\u001b[0m \u001b[1m76s\u001b[0m 36ms/step - loss: 3.1660e-06 - val_loss: 3.1759e-06\n",
            "Epoch 8/30\n",
            "\u001b[1m1875/1875\u001b[0m \u001b[32m━━━━━━━━━━━━━━━━━━━━\u001b[0m\u001b[37m\u001b[0m \u001b[1m65s\u001b[0m 34ms/step - loss: 3.1833e-06 - val_loss: 3.1758e-06\n",
            "Epoch 9/30\n",
            "\u001b[1m1875/1875\u001b[0m \u001b[32m━━━━━━━━━━━━━━━━━━━━\u001b[0m\u001b[37m\u001b[0m \u001b[1m75s\u001b[0m 31ms/step - loss: 3.1620e-06 - val_loss: 3.1757e-06\n",
            "Epoch 10/30\n",
            "\u001b[1m1875/1875\u001b[0m \u001b[32m━━━━━━━━━━━━━━━━━━━━\u001b[0m\u001b[37m\u001b[0m \u001b[1m65s\u001b[0m 35ms/step - loss: 3.1787e-06 - val_loss: 3.1757e-06\n",
            "Epoch 11/30\n",
            "\u001b[1m1875/1875\u001b[0m \u001b[32m━━━━━━━━━━━━━━━━━━━━\u001b[0m\u001b[37m\u001b[0m \u001b[1m82s\u001b[0m 35ms/step - loss: 3.1737e-06 - val_loss: 3.1757e-06\n",
            "Epoch 12/30\n",
            "\u001b[1m1875/1875\u001b[0m \u001b[32m━━━━━━━━━━━━━━━━━━━━\u001b[0m\u001b[37m\u001b[0m \u001b[1m83s\u001b[0m 36ms/step - loss: 3.1726e-06 - val_loss: 3.1757e-06\n",
            "Epoch 13/30\n",
            "\u001b[1m1875/1875\u001b[0m \u001b[32m━━━━━━━━━━━━━━━━━━━━\u001b[0m\u001b[37m\u001b[0m \u001b[1m94s\u001b[0m 42ms/step - loss: 3.1659e-06 - val_loss: 3.1757e-06\n",
            "Epoch 14/30\n",
            "\u001b[1m1875/1875\u001b[0m \u001b[32m━━━━━━━━━━━━━━━━━━━━\u001b[0m\u001b[37m\u001b[0m \u001b[1m76s\u001b[0m 39ms/step - loss: 3.1841e-06 - val_loss: 3.1757e-06\n",
            "Epoch 15/30\n",
            "\u001b[1m1875/1875\u001b[0m \u001b[32m━━━━━━━━━━━━━━━━━━━━\u001b[0m\u001b[37m\u001b[0m \u001b[1m83s\u001b[0m 39ms/step - loss: 3.1669e-06 - val_loss: 3.1757e-06\n",
            "Epoch 16/30\n",
            "\u001b[1m1875/1875\u001b[0m \u001b[32m━━━━━━━━━━━━━━━━━━━━\u001b[0m\u001b[37m\u001b[0m \u001b[1m73s\u001b[0m 39ms/step - loss: 3.1727e-06 - val_loss: 3.1757e-06\n",
            "Epoch 17/30\n",
            "\u001b[1m1875/1875\u001b[0m \u001b[32m━━━━━━━━━━━━━━━━━━━━\u001b[0m\u001b[37m\u001b[0m \u001b[1m73s\u001b[0m 39ms/step - loss: 3.1743e-06 - val_loss: 3.1757e-06\n",
            "Epoch 18/30\n",
            "\u001b[1m1875/1875\u001b[0m \u001b[32m━━━━━━━━━━━━━━━━━━━━\u001b[0m\u001b[37m\u001b[0m \u001b[1m76s\u001b[0m 36ms/step - loss: 3.1702e-06 - val_loss: 3.1757e-06\n",
            "Epoch 19/30\n",
            "\u001b[1m1875/1875\u001b[0m \u001b[32m━━━━━━━━━━━━━━━━━━━━\u001b[0m\u001b[37m\u001b[0m \u001b[1m87s\u001b[0m 39ms/step - loss: 3.1704e-06 - val_loss: 3.1757e-06\n",
            "Epoch 20/30\n",
            "\u001b[1m1875/1875\u001b[0m \u001b[32m━━━━━━━━━━━━━━━━━━━━\u001b[0m\u001b[37m\u001b[0m \u001b[1m79s\u001b[0m 37ms/step - loss: 3.1806e-06 - val_loss: 3.1757e-06\n",
            "Epoch 21/30\n",
            "\u001b[1m1875/1875\u001b[0m \u001b[32m━━━━━━━━━━━━━━━━━━━━\u001b[0m\u001b[37m\u001b[0m \u001b[1m87s\u001b[0m 40ms/step - loss: 3.1755e-06 - val_loss: 3.1757e-06\n",
            "Epoch 22/30\n",
            "\u001b[1m1875/1875\u001b[0m \u001b[32m━━━━━━━━━━━━━━━━━━━━\u001b[0m\u001b[37m\u001b[0m \u001b[1m80s\u001b[0m 39ms/step - loss: 3.1833e-06 - val_loss: 3.1757e-06\n",
            "Epoch 23/30\n",
            "\u001b[1m1875/1875\u001b[0m \u001b[32m━━━━━━━━━━━━━━━━━━━━\u001b[0m\u001b[37m\u001b[0m \u001b[1m77s\u001b[0m 36ms/step - loss: 3.1747e-06 - val_loss: 3.1757e-06\n",
            "Epoch 24/30\n",
            "\u001b[1m1875/1875\u001b[0m \u001b[32m━━━━━━━━━━━━━━━━━━━━\u001b[0m\u001b[37m\u001b[0m \u001b[1m80s\u001b[0m 35ms/step - loss: 3.1784e-06 - val_loss: 3.1757e-06\n",
            "Epoch 25/30\n",
            "\u001b[1m1875/1875\u001b[0m \u001b[32m━━━━━━━━━━━━━━━━━━━━\u001b[0m\u001b[37m\u001b[0m \u001b[1m81s\u001b[0m 35ms/step - loss: 3.1808e-06 - val_loss: 3.1757e-06\n",
            "Epoch 26/30\n",
            "\u001b[1m1875/1875\u001b[0m \u001b[32m━━━━━━━━━━━━━━━━━━━━\u001b[0m\u001b[37m\u001b[0m \u001b[1m91s\u001b[0m 40ms/step - loss: 3.1785e-06 - val_loss: 3.1757e-06\n",
            "Epoch 27/30\n",
            "\u001b[1m1875/1875\u001b[0m \u001b[32m━━━━━━━━━━━━━━━━━━━━\u001b[0m\u001b[37m\u001b[0m \u001b[1m74s\u001b[0m 35ms/step - loss: 3.1750e-06 - val_loss: 3.1757e-06\n",
            "Epoch 28/30\n",
            "\u001b[1m1875/1875\u001b[0m \u001b[32m━━━━━━━━━━━━━━━━━━━━\u001b[0m\u001b[37m\u001b[0m \u001b[1m55s\u001b[0m 29ms/step - loss: 3.1825e-06 - val_loss: 3.1757e-06\n",
            "Epoch 29/30\n",
            "\u001b[1m1875/1875\u001b[0m \u001b[32m━━━━━━━━━━━━━━━━━━━━\u001b[0m\u001b[37m\u001b[0m \u001b[1m95s\u001b[0m 37ms/step - loss: 3.1711e-06 - val_loss: 3.1757e-06\n",
            "Epoch 30/30\n",
            "\u001b[1m1875/1875\u001b[0m \u001b[32m━━━━━━━━━━━━━━━━━━━━\u001b[0m\u001b[37m\u001b[0m \u001b[1m86s\u001b[0m 39ms/step - loss: 3.1706e-06 - val_loss: 3.1757e-06\n"
          ]
        },
        {
          "output_type": "execute_result",
          "data": {
            "text/plain": [
              "<keras.src.callbacks.history.History at 0x7cf93c093f40>"
            ]
          },
          "metadata": {},
          "execution_count": 13
        }
      ],
      "source": [
        "autoencoder.fit(x_train_noisy, x_train,\n",
        "                epochs=30,\n",
        "                shuffle=True,\n",
        "                validation_data=(x_test_noisy, x_test))"
      ]
    },
    {
      "cell_type": "code",
      "execution_count": 14,
      "id": "3f821613",
      "metadata": {
        "colab": {
          "base_uri": "https://localhost:8080/",
          "height": 193
        },
        "id": "3f821613",
        "outputId": "5b059133-e537-4fa3-eadb-188f962d24ee"
      },
      "outputs": [
        {
          "output_type": "display_data",
          "data": {
            "text/plain": [
              "\u001b[1mModel: \"sequential\"\u001b[0m\n"
            ],
            "text/html": [
              "<pre style=\"white-space:pre;overflow-x:auto;line-height:normal;font-family:Menlo,'DejaVu Sans Mono',consolas,'Courier New',monospace\"><span style=\"font-weight: bold\">Model: \"sequential\"</span>\n",
              "</pre>\n"
            ]
          },
          "metadata": {}
        },
        {
          "output_type": "display_data",
          "data": {
            "text/plain": [
              "┏━━━━━━━━━━━━━━━━━━━━━━━━━━━━━━━━━━━━━━┳━━━━━━━━━━━━━━━━━━━━━━━━━━━━━┳━━━━━━━━━━━━━━━━━┓\n",
              "┃\u001b[1m \u001b[0m\u001b[1mLayer (type)                        \u001b[0m\u001b[1m \u001b[0m┃\u001b[1m \u001b[0m\u001b[1mOutput Shape               \u001b[0m\u001b[1m \u001b[0m┃\u001b[1m \u001b[0m\u001b[1m        Param #\u001b[0m\u001b[1m \u001b[0m┃\n",
              "┡━━━━━━━━━━━━━━━━━━━━━━━━━━━━━━━━━━━━━━╇━━━━━━━━━━━━━━━━━━━━━━━━━━━━━╇━━━━━━━━━━━━━━━━━┩\n",
              "│ conv2d (\u001b[38;5;33mConv2D\u001b[0m)                      │ (\u001b[38;5;45mNone\u001b[0m, \u001b[38;5;34m14\u001b[0m, \u001b[38;5;34m14\u001b[0m, \u001b[38;5;34m16\u001b[0m)          │             \u001b[38;5;34m160\u001b[0m │\n",
              "├──────────────────────────────────────┼─────────────────────────────┼─────────────────┤\n",
              "│ conv2d_1 (\u001b[38;5;33mConv2D\u001b[0m)                    │ (\u001b[38;5;45mNone\u001b[0m, \u001b[38;5;34m7\u001b[0m, \u001b[38;5;34m7\u001b[0m, \u001b[38;5;34m8\u001b[0m)             │           \u001b[38;5;34m1,160\u001b[0m │\n",
              "└──────────────────────────────────────┴─────────────────────────────┴─────────────────┘\n"
            ],
            "text/html": [
              "<pre style=\"white-space:pre;overflow-x:auto;line-height:normal;font-family:Menlo,'DejaVu Sans Mono',consolas,'Courier New',monospace\">┏━━━━━━━━━━━━━━━━━━━━━━━━━━━━━━━━━━━━━━┳━━━━━━━━━━━━━━━━━━━━━━━━━━━━━┳━━━━━━━━━━━━━━━━━┓\n",
              "┃<span style=\"font-weight: bold\"> Layer (type)                         </span>┃<span style=\"font-weight: bold\"> Output Shape                </span>┃<span style=\"font-weight: bold\">         Param # </span>┃\n",
              "┡━━━━━━━━━━━━━━━━━━━━━━━━━━━━━━━━━━━━━━╇━━━━━━━━━━━━━━━━━━━━━━━━━━━━━╇━━━━━━━━━━━━━━━━━┩\n",
              "│ conv2d (<span style=\"color: #0087ff; text-decoration-color: #0087ff\">Conv2D</span>)                      │ (<span style=\"color: #00d7ff; text-decoration-color: #00d7ff\">None</span>, <span style=\"color: #00af00; text-decoration-color: #00af00\">14</span>, <span style=\"color: #00af00; text-decoration-color: #00af00\">14</span>, <span style=\"color: #00af00; text-decoration-color: #00af00\">16</span>)          │             <span style=\"color: #00af00; text-decoration-color: #00af00\">160</span> │\n",
              "├──────────────────────────────────────┼─────────────────────────────┼─────────────────┤\n",
              "│ conv2d_1 (<span style=\"color: #0087ff; text-decoration-color: #0087ff\">Conv2D</span>)                    │ (<span style=\"color: #00d7ff; text-decoration-color: #00d7ff\">None</span>, <span style=\"color: #00af00; text-decoration-color: #00af00\">7</span>, <span style=\"color: #00af00; text-decoration-color: #00af00\">7</span>, <span style=\"color: #00af00; text-decoration-color: #00af00\">8</span>)             │           <span style=\"color: #00af00; text-decoration-color: #00af00\">1,160</span> │\n",
              "└──────────────────────────────────────┴─────────────────────────────┴─────────────────┘\n",
              "</pre>\n"
            ]
          },
          "metadata": {}
        },
        {
          "output_type": "display_data",
          "data": {
            "text/plain": [
              "\u001b[1m Total params: \u001b[0m\u001b[38;5;34m1,320\u001b[0m (5.16 KB)\n"
            ],
            "text/html": [
              "<pre style=\"white-space:pre;overflow-x:auto;line-height:normal;font-family:Menlo,'DejaVu Sans Mono',consolas,'Courier New',monospace\"><span style=\"font-weight: bold\"> Total params: </span><span style=\"color: #00af00; text-decoration-color: #00af00\">1,320</span> (5.16 KB)\n",
              "</pre>\n"
            ]
          },
          "metadata": {}
        },
        {
          "output_type": "display_data",
          "data": {
            "text/plain": [
              "\u001b[1m Trainable params: \u001b[0m\u001b[38;5;34m1,320\u001b[0m (5.16 KB)\n"
            ],
            "text/html": [
              "<pre style=\"white-space:pre;overflow-x:auto;line-height:normal;font-family:Menlo,'DejaVu Sans Mono',consolas,'Courier New',monospace\"><span style=\"font-weight: bold\"> Trainable params: </span><span style=\"color: #00af00; text-decoration-color: #00af00\">1,320</span> (5.16 KB)\n",
              "</pre>\n"
            ]
          },
          "metadata": {}
        },
        {
          "output_type": "display_data",
          "data": {
            "text/plain": [
              "\u001b[1m Non-trainable params: \u001b[0m\u001b[38;5;34m0\u001b[0m (0.00 B)\n"
            ],
            "text/html": [
              "<pre style=\"white-space:pre;overflow-x:auto;line-height:normal;font-family:Menlo,'DejaVu Sans Mono',consolas,'Courier New',monospace\"><span style=\"font-weight: bold\"> Non-trainable params: </span><span style=\"color: #00af00; text-decoration-color: #00af00\">0</span> (0.00 B)\n",
              "</pre>\n"
            ]
          },
          "metadata": {}
        }
      ],
      "source": [
        "autoencoder.encoder.summary()\n"
      ]
    },
    {
      "cell_type": "code",
      "execution_count": 15,
      "id": "499a50d1",
      "metadata": {
        "colab": {
          "base_uri": "https://localhost:8080/",
          "height": 225
        },
        "id": "499a50d1",
        "outputId": "1f0ee54a-4820-4ad3-d90b-ee49afe9c2be"
      },
      "outputs": [
        {
          "output_type": "display_data",
          "data": {
            "text/plain": [
              "\u001b[1mModel: \"sequential_1\"\u001b[0m\n"
            ],
            "text/html": [
              "<pre style=\"white-space:pre;overflow-x:auto;line-height:normal;font-family:Menlo,'DejaVu Sans Mono',consolas,'Courier New',monospace\"><span style=\"font-weight: bold\">Model: \"sequential_1\"</span>\n",
              "</pre>\n"
            ]
          },
          "metadata": {}
        },
        {
          "output_type": "display_data",
          "data": {
            "text/plain": [
              "┏━━━━━━━━━━━━━━━━━━━━━━━━━━━━━━━━━━━━━━┳━━━━━━━━━━━━━━━━━━━━━━━━━━━━━┳━━━━━━━━━━━━━━━━━┓\n",
              "┃\u001b[1m \u001b[0m\u001b[1mLayer (type)                        \u001b[0m\u001b[1m \u001b[0m┃\u001b[1m \u001b[0m\u001b[1mOutput Shape               \u001b[0m\u001b[1m \u001b[0m┃\u001b[1m \u001b[0m\u001b[1m        Param #\u001b[0m\u001b[1m \u001b[0m┃\n",
              "┡━━━━━━━━━━━━━━━━━━━━━━━━━━━━━━━━━━━━━━╇━━━━━━━━━━━━━━━━━━━━━━━━━━━━━╇━━━━━━━━━━━━━━━━━┩\n",
              "│ conv2d_transpose (\u001b[38;5;33mConv2DTranspose\u001b[0m)   │ (\u001b[38;5;34m32\u001b[0m, \u001b[38;5;34m14\u001b[0m, \u001b[38;5;34m14\u001b[0m, \u001b[38;5;34m8\u001b[0m)             │             \u001b[38;5;34m584\u001b[0m │\n",
              "├──────────────────────────────────────┼─────────────────────────────┼─────────────────┤\n",
              "│ conv2d_transpose_1 (\u001b[38;5;33mConv2DTranspose\u001b[0m) │ (\u001b[38;5;34m32\u001b[0m, \u001b[38;5;34m28\u001b[0m, \u001b[38;5;34m28\u001b[0m, \u001b[38;5;34m16\u001b[0m)            │           \u001b[38;5;34m1,168\u001b[0m │\n",
              "├──────────────────────────────────────┼─────────────────────────────┼─────────────────┤\n",
              "│ conv2d_2 (\u001b[38;5;33mConv2D\u001b[0m)                    │ (\u001b[38;5;34m32\u001b[0m, \u001b[38;5;34m28\u001b[0m, \u001b[38;5;34m28\u001b[0m, \u001b[38;5;34m1\u001b[0m)             │             \u001b[38;5;34m145\u001b[0m │\n",
              "└──────────────────────────────────────┴─────────────────────────────┴─────────────────┘\n"
            ],
            "text/html": [
              "<pre style=\"white-space:pre;overflow-x:auto;line-height:normal;font-family:Menlo,'DejaVu Sans Mono',consolas,'Courier New',monospace\">┏━━━━━━━━━━━━━━━━━━━━━━━━━━━━━━━━━━━━━━┳━━━━━━━━━━━━━━━━━━━━━━━━━━━━━┳━━━━━━━━━━━━━━━━━┓\n",
              "┃<span style=\"font-weight: bold\"> Layer (type)                         </span>┃<span style=\"font-weight: bold\"> Output Shape                </span>┃<span style=\"font-weight: bold\">         Param # </span>┃\n",
              "┡━━━━━━━━━━━━━━━━━━━━━━━━━━━━━━━━━━━━━━╇━━━━━━━━━━━━━━━━━━━━━━━━━━━━━╇━━━━━━━━━━━━━━━━━┩\n",
              "│ conv2d_transpose (<span style=\"color: #0087ff; text-decoration-color: #0087ff\">Conv2DTranspose</span>)   │ (<span style=\"color: #00af00; text-decoration-color: #00af00\">32</span>, <span style=\"color: #00af00; text-decoration-color: #00af00\">14</span>, <span style=\"color: #00af00; text-decoration-color: #00af00\">14</span>, <span style=\"color: #00af00; text-decoration-color: #00af00\">8</span>)             │             <span style=\"color: #00af00; text-decoration-color: #00af00\">584</span> │\n",
              "├──────────────────────────────────────┼─────────────────────────────┼─────────────────┤\n",
              "│ conv2d_transpose_1 (<span style=\"color: #0087ff; text-decoration-color: #0087ff\">Conv2DTranspose</span>) │ (<span style=\"color: #00af00; text-decoration-color: #00af00\">32</span>, <span style=\"color: #00af00; text-decoration-color: #00af00\">28</span>, <span style=\"color: #00af00; text-decoration-color: #00af00\">28</span>, <span style=\"color: #00af00; text-decoration-color: #00af00\">16</span>)            │           <span style=\"color: #00af00; text-decoration-color: #00af00\">1,168</span> │\n",
              "├──────────────────────────────────────┼─────────────────────────────┼─────────────────┤\n",
              "│ conv2d_2 (<span style=\"color: #0087ff; text-decoration-color: #0087ff\">Conv2D</span>)                    │ (<span style=\"color: #00af00; text-decoration-color: #00af00\">32</span>, <span style=\"color: #00af00; text-decoration-color: #00af00\">28</span>, <span style=\"color: #00af00; text-decoration-color: #00af00\">28</span>, <span style=\"color: #00af00; text-decoration-color: #00af00\">1</span>)             │             <span style=\"color: #00af00; text-decoration-color: #00af00\">145</span> │\n",
              "└──────────────────────────────────────┴─────────────────────────────┴─────────────────┘\n",
              "</pre>\n"
            ]
          },
          "metadata": {}
        },
        {
          "output_type": "display_data",
          "data": {
            "text/plain": [
              "\u001b[1m Total params: \u001b[0m\u001b[38;5;34m1,897\u001b[0m (7.41 KB)\n"
            ],
            "text/html": [
              "<pre style=\"white-space:pre;overflow-x:auto;line-height:normal;font-family:Menlo,'DejaVu Sans Mono',consolas,'Courier New',monospace\"><span style=\"font-weight: bold\"> Total params: </span><span style=\"color: #00af00; text-decoration-color: #00af00\">1,897</span> (7.41 KB)\n",
              "</pre>\n"
            ]
          },
          "metadata": {}
        },
        {
          "output_type": "display_data",
          "data": {
            "text/plain": [
              "\u001b[1m Trainable params: \u001b[0m\u001b[38;5;34m1,897\u001b[0m (7.41 KB)\n"
            ],
            "text/html": [
              "<pre style=\"white-space:pre;overflow-x:auto;line-height:normal;font-family:Menlo,'DejaVu Sans Mono',consolas,'Courier New',monospace\"><span style=\"font-weight: bold\"> Trainable params: </span><span style=\"color: #00af00; text-decoration-color: #00af00\">1,897</span> (7.41 KB)\n",
              "</pre>\n"
            ]
          },
          "metadata": {}
        },
        {
          "output_type": "display_data",
          "data": {
            "text/plain": [
              "\u001b[1m Non-trainable params: \u001b[0m\u001b[38;5;34m0\u001b[0m (0.00 B)\n"
            ],
            "text/html": [
              "<pre style=\"white-space:pre;overflow-x:auto;line-height:normal;font-family:Menlo,'DejaVu Sans Mono',consolas,'Courier New',monospace\"><span style=\"font-weight: bold\"> Non-trainable params: </span><span style=\"color: #00af00; text-decoration-color: #00af00\">0</span> (0.00 B)\n",
              "</pre>\n"
            ]
          },
          "metadata": {}
        }
      ],
      "source": [
        "autoencoder.decoder.summary()\n"
      ]
    },
    {
      "cell_type": "code",
      "execution_count": 16,
      "id": "8ceec97e",
      "metadata": {
        "id": "8ceec97e"
      },
      "outputs": [],
      "source": [
        "encoded_imgs = autoencoder.encoder(x_test_noisy).numpy()\n",
        "decoded_imgs = autoencoder.decoder(encoded_imgs).numpy()"
      ]
    },
    {
      "cell_type": "code",
      "execution_count": 17,
      "id": "510db41a",
      "metadata": {
        "colab": {
          "base_uri": "https://localhost:8080/",
          "height": 467
        },
        "id": "510db41a",
        "outputId": "215dc04a-e991-4e99-cec9-db88c8759997"
      },
      "outputs": [
        {
          "output_type": "display_data",
          "data": {
            "text/plain": [
              "<Figure size 2000x600 with 30 Axes>"
            ],
            "image/png": "[encoded data removed]"
          },
          "metadata": {}
        }
      ],
      "source": [
        "n = 10\n",
        "plt.figure(figsize=(20, 6))\n",
        "for i in range(n):\n",
        "    # display original\n",
        "    ax = plt.subplot(3, n, i + 1)\n",
        "    plt.title(\"original\")\n",
        "    plt.imshow(tf.squeeze(x_test[i]))\n",
        "    plt.gray()\n",
        "    ax.get_xaxis().set_visible(False)\n",
        "    ax.get_yaxis().set_visible(False)\n",
        "\n",
        "    # display original + noise\n",
        "    ax = plt.subplot(3, n, i + n + 1)\n",
        "    plt.title(\"original + noise\")\n",
        "    plt.imshow(tf.squeeze(x_test_noisy[i]))\n",
        "    plt.gray()\n",
        "    ax.get_xaxis().set_visible(False)\n",
        "    ax.get_yaxis().set_visible(False)\n",
        "\n",
        "    # display reconstruction\n",
        "    bx = plt.subplot(3, n, i + 2*n + 1)\n",
        "    plt.title(\"reconstructed\")\n",
        "    plt.imshow(tf.squeeze(decoded_imgs[i]))\n",
        "    plt.gray()\n",
        "    bx.get_xaxis().set_visible(False)\n",
        "    bx.get_yaxis().set_visible(False)\n",
        "plt.show()"
      ]
    },
    {
      "cell_type": "code",
      "source": [
        "from sklearn.metrics import mean_squared_error\n",
        "\n",
        "# Predict using the autoencoder\n",
        "reconstructed_images = autoencoder.predict(x_test)\n",
        "\n",
        "# Calculate the Mean Squared Error (MSE) loss between the original and reconstructed images\n",
        "test_loss = mean_squared_error(x_test.flatten(), reconstructed_images.flatten())\n",
        "print(f\"Test MSE Loss: {test_loss}\")\n"
      ],
      "metadata": {
        "colab": {
          "base_uri": "https://localhost:8080/"
        },
        "id": "yLi2n27p0L_a",
        "outputId": "161e3096-b39a-4c9d-d108-a617fe988da8"
      },
      "id": "yLi2n27p0L_a",
      "execution_count": 18,
      "outputs": [
        {
          "output_type": "stream",
          "name": "stdout",
          "text": [
            "\u001b[1m313/313\u001b[0m \u001b[32m━━━━━━━━━━━━━━━━━━━━\u001b[0m\u001b[37m\u001b[0m \u001b[1m6s\u001b[0m 17ms/step\n",
            "Test MSE Loss: 3.1762665457790717e-06\n"
          ]
        }
      ]
    },
    {
      "cell_type": "code",
      "source": [
        "import matplotlib.pyplot as plt\n",
        "\n",
        "history = autoencoder.compile(optimizer='adam', loss='mse')\n",
        "history = autoencoder.fit(x_train, x_train, epochs=30, validation_data=(x_test, x_test))\n",
        "\n",
        "plt.plot(history.history['loss'], label='train_loss')\n",
        "plt.plot(history.history['val_loss'], label='val_loss')\n",
        "plt.title('Training and Validation Loss')\n",
        "plt.xlabel('Epochs')\n",
        "plt.ylabel('Loss')\n",
        "plt.legend()\n",
        "plt.show()\n"
      ],
      "metadata": {
        "colab": {
          "base_uri": "https://localhost:8080/",
          "height": 1000
        },
        "id": "ZenjznSs0Skt",
        "outputId": "b43a6a16-5c41-41b3-ce81-791056167969"
      },
      "id": "ZenjznSs0Skt",
      "execution_count": 19,
      "outputs": [
        {
          "output_type": "stream",
          "name": "stdout",
          "text": [
            "Epoch 1/30\n",
            "\u001b[1m1875/1875\u001b[0m \u001b[32m━━━━━━━━━━━━━━━━━━━━\u001b[0m\u001b[37m\u001b[0m \u001b[1m55s\u001b[0m 28ms/step - loss: 3.1842e-06 - val_loss: 3.1757e-06\n",
            "Epoch 2/30\n",
            "\u001b[1m1875/1875\u001b[0m \u001b[32m━━━━━━━━━━━━━━━━━━━━\u001b[0m\u001b[37m\u001b[0m \u001b[1m55s\u001b[0m 29ms/step - loss: 3.1794e-06 - val_loss: 3.1757e-06\n",
            "Epoch 3/30\n",
            "\u001b[1m1875/1875\u001b[0m \u001b[32m━━━━━━━━━━━━━━━━━━━━\u001b[0m\u001b[37m\u001b[0m \u001b[1m82s\u001b[0m 29ms/step - loss: 3.1695e-06 - val_loss: 3.1757e-06\n",
            "Epoch 4/30\n",
            "\u001b[1m1875/1875\u001b[0m \u001b[32m━━━━━━━━━━━━━━━━━━━━\u001b[0m\u001b[37m\u001b[0m \u001b[1m80s\u001b[0m 28ms/step - loss: 3.1795e-06 - val_loss: 3.1757e-06\n",
            "Epoch 5/30\n",
            "\u001b[1m1875/1875\u001b[0m \u001b[32m━━━━━━━━━━━━━━━━━━━━\u001b[0m\u001b[37m\u001b[0m \u001b[1m96s\u001b[0m 36ms/step - loss: 3.1822e-06 - val_loss: 3.1757e-06\n",
            "Epoch 6/30\n",
            "\u001b[1m1875/1875\u001b[0m \u001b[32m━━━━━━━━━━━━━━━━━━━━\u001b[0m\u001b[37m\u001b[0m \u001b[1m80s\u001b[0m 35ms/step - loss: 3.1813e-06 - val_loss: 3.1757e-06\n",
            "Epoch 7/30\n",
            "\u001b[1m1875/1875\u001b[0m \u001b[32m━━━━━━━━━━━━━━━━━━━━\u001b[0m\u001b[37m\u001b[0m \u001b[1m62s\u001b[0m 33ms/step - loss: 3.1749e-06 - val_loss: 3.1757e-06\n",
            "Epoch 8/30\n",
            "\u001b[1m1875/1875\u001b[0m \u001b[32m━━━━━━━━━━━━━━━━━━━━\u001b[0m\u001b[37m\u001b[0m \u001b[1m86s\u001b[0m 35ms/step - loss: 3.1746e-06 - val_loss: 3.1757e-06\n",
            "Epoch 9/30\n",
            "\u001b[1m1875/1875\u001b[0m \u001b[32m━━━━━━━━━━━━━━━━━━━━\u001b[0m\u001b[37m\u001b[0m \u001b[1m64s\u001b[0m 34ms/step - loss: 3.1826e-06 - val_loss: 3.1757e-06\n",
            "Epoch 10/30\n",
            "\u001b[1m1875/1875\u001b[0m \u001b[32m━━━━━━━━━━━━━━━━━━━━\u001b[0m\u001b[37m\u001b[0m \u001b[1m86s\u001b[0m 36ms/step - loss: 3.1602e-06 - val_loss: 3.1757e-06\n",
            "Epoch 11/30\n",
            "\u001b[1m1875/1875\u001b[0m \u001b[32m━━━━━━━━━━━━━━━━━━━━\u001b[0m\u001b[37m\u001b[0m \u001b[1m74s\u001b[0m 33ms/step - loss: 3.1734e-06 - val_loss: 3.1757e-06\n",
            "Epoch 12/30\n",
            "\u001b[1m1875/1875\u001b[0m \u001b[32m━━━━━━━━━━━━━━━━━━━━\u001b[0m\u001b[37m\u001b[0m \u001b[1m93s\u001b[0m 38ms/step - loss: 3.1729e-06 - val_loss: 3.1757e-06\n",
            "Epoch 13/30\n",
            "\u001b[1m1875/1875\u001b[0m \u001b[32m━━━━━━━━━━━━━━━━━━━━\u001b[0m\u001b[37m\u001b[0m \u001b[1m75s\u001b[0m 35ms/step - loss: 3.1676e-06 - val_loss: 3.1757e-06\n",
            "Epoch 14/30\n",
            "\u001b[1m1875/1875\u001b[0m \u001b[32m━━━━━━━━━━━━━━━━━━━━\u001b[0m\u001b[37m\u001b[0m \u001b[1m85s\u001b[0m 37ms/step - loss: 3.1796e-06 - val_loss: 3.1757e-06\n",
            "Epoch 15/30\n",
            "\u001b[1m1875/1875\u001b[0m \u001b[32m━━━━━━━━━━━━━━━━━━━━\u001b[0m\u001b[37m\u001b[0m \u001b[1m65s\u001b[0m 28ms/step - loss: 3.1723e-06 - val_loss: 3.1757e-06\n",
            "Epoch 16/30\n",
            "\u001b[1m1875/1875\u001b[0m \u001b[32m━━━━━━━━━━━━━━━━━━━━\u001b[0m\u001b[37m\u001b[0m \u001b[1m96s\u001b[0m 35ms/step - loss: 3.1738e-06 - val_loss: 3.1757e-06\n",
            "Epoch 17/30\n",
            "\u001b[1m1875/1875\u001b[0m \u001b[32m━━━━━━━━━━━━━━━━━━━━\u001b[0m\u001b[37m\u001b[0m \u001b[1m63s\u001b[0m 34ms/step - loss: 3.1715e-06 - val_loss: 3.1757e-06\n",
            "Epoch 18/30\n",
            "\u001b[1m1875/1875\u001b[0m \u001b[32m━━━━━━━━━━━━━━━━━━━━\u001b[0m\u001b[37m\u001b[0m \u001b[1m84s\u001b[0m 35ms/step - loss: 3.1707e-06 - val_loss: 3.1757e-06\n",
            "Epoch 19/30\n",
            "\u001b[1m1875/1875\u001b[0m \u001b[32m━━━━━━━━━━━━━━━━━━━━\u001b[0m\u001b[37m\u001b[0m \u001b[1m79s\u001b[0m 33ms/step - loss: 3.1732e-06 - val_loss: 3.1757e-06\n",
            "Epoch 20/30\n",
            "\u001b[1m1875/1875\u001b[0m \u001b[32m━━━━━━━━━━━━━━━━━━━━\u001b[0m\u001b[37m\u001b[0m \u001b[1m74s\u001b[0m 29ms/step - loss: 3.1681e-06 - val_loss: 3.1757e-06\n",
            "Epoch 21/30\n",
            "\u001b[1m1875/1875\u001b[0m \u001b[32m━━━━━━━━━━━━━━━━━━━━\u001b[0m\u001b[37m\u001b[0m \u001b[1m52s\u001b[0m 28ms/step - loss: 3.1695e-06 - val_loss: 3.1757e-06\n",
            "Epoch 22/30\n",
            "\u001b[1m1875/1875\u001b[0m \u001b[32m━━━━━━━━━━━━━━━━━━━━\u001b[0m\u001b[37m\u001b[0m \u001b[1m96s\u001b[0m 35ms/step - loss: 3.1757e-06 - val_loss: 3.1757e-06\n",
            "Epoch 23/30\n",
            "\u001b[1m1875/1875\u001b[0m \u001b[32m━━━━━━━━━━━━━━━━━━━━\u001b[0m\u001b[37m\u001b[0m \u001b[1m77s\u001b[0m 33ms/step - loss: 3.1755e-06 - val_loss: 3.1757e-06\n",
            "Epoch 24/30\n",
            "\u001b[1m1875/1875\u001b[0m \u001b[32m━━━━━━━━━━━━━━━━━━━━\u001b[0m\u001b[37m\u001b[0m \u001b[1m94s\u001b[0m 39ms/step - loss: 3.1746e-06 - val_loss: 3.1757e-06\n",
            "Epoch 25/30\n",
            "\u001b[1m1875/1875\u001b[0m \u001b[32m━━━━━━━━━━━━━━━━━━━━\u001b[0m\u001b[37m\u001b[0m \u001b[1m82s\u001b[0m 39ms/step - loss: 3.1744e-06 - val_loss: 3.1757e-06\n",
            "Epoch 26/30\n",
            "\u001b[1m1875/1875\u001b[0m \u001b[32m━━━━━━━━━━━━━━━━━━━━\u001b[0m\u001b[37m\u001b[0m \u001b[1m66s\u001b[0m 35ms/step - loss: 3.1785e-06 - val_loss: 3.1757e-06\n",
            "Epoch 27/30\n",
            "\u001b[1m1875/1875\u001b[0m \u001b[32m━━━━━━━━━━━━━━━━━━━━\u001b[0m\u001b[37m\u001b[0m \u001b[1m81s\u001b[0m 35ms/step - loss: 3.1875e-06 - val_loss: 3.1757e-06\n",
            "Epoch 28/30\n",
            "\u001b[1m1875/1875\u001b[0m \u001b[32m━━━━━━━━━━━━━━━━━━━━\u001b[0m\u001b[37m\u001b[0m \u001b[1m82s\u001b[0m 35ms/step - loss: 3.1817e-06 - val_loss: 3.1757e-06\n",
            "Epoch 29/30\n",
            "\u001b[1m1875/1875\u001b[0m \u001b[32m━━━━━━━━━━━━━━━━━━━━\u001b[0m\u001b[37m\u001b[0m \u001b[1m69s\u001b[0m 28ms/step - loss: 3.1801e-06 - val_loss: 3.1757e-06\n",
            "Epoch 30/30\n",
            "\u001b[1m1875/1875\u001b[0m \u001b[32m━━━━━━━━━━━━━━━━━━━━\u001b[0m\u001b[37m\u001b[0m \u001b[1m96s\u001b[0m 36ms/step - loss: 3.1660e-06 - val_loss: 3.1757e-06\n"
          ]
        },
        {
          "output_type": "display_data",
          "data": {
            "text/plain": [
              "<Figure size 640x480 with 1 Axes>"
            ],
            "image/png": "[encoded data removed]"
          },
          "metadata": {}
        }
      ]
    }
  ],
  "metadata": {
    "kernelspec": {
      "display_name": "Python 3",
      "language": "python",
      "name": "python3"
    },
    "language_info": {
      "codemirror_mode": {
        "name": "ipython",
        "version": 3
      },
      "file_extension": ".py",
      "mimetype": "text/x-python",
      "name": "python",
      "nbconvert_exporter": "python",
      "pygments_lexer": "ipython3",
      "version": "3.8.8"
    },
    "colab": {
      "provenance": []
    }
  },
  "nbformat": 4,
  "nbformat_minor": 5
}